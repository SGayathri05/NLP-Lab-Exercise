{
  "nbformat": 4,
  "nbformat_minor": 0,
  "metadata": {
    "colab": {
      "provenance": []
    },
    "kernelspec": {
      "name": "python3",
      "display_name": "Python 3"
    },
    "language_info": {
      "name": "python"
    }
  },
  "cells": [
    {
      "cell_type": "markdown",
      "source": [
        "# **Tokenization**"
      ],
      "metadata": {
        "id": "J_v-YAW4EAUk"
      }
    },
    {
      "cell_type": "code",
      "execution_count": null,
      "metadata": {
        "colab": {
          "base_uri": "https://localhost:8080/"
        },
        "id": "-sZYUx-aCdTh",
        "outputId": "0384f193-27e2-446a-e3b9-c905fdfa4be4"
      },
      "outputs": [
        {
          "output_type": "stream",
          "name": "stdout",
          "text": [
            "['this', 'is', 'a', 'sample', 'sentence', 'tokenization', 'is', 'the', 'first', 'step', 'in', 'nlp']\n"
          ]
        }
      ],
      "source": [
        "import re\n",
        "\n",
        "text = \"This is a sample sentence. Tokenization is the first step in NLP!\"\n",
        "tokens = re.findall(r'\\w+', text.lower())\n",
        "print(tokens)"
      ]
    },
    {
      "cell_type": "markdown",
      "source": [
        "# **SINGULAR TO PLURAL CONVERSION**"
      ],
      "metadata": {
        "id": "6OQEkvYuBu72"
      }
    },
    {
      "cell_type": "code",
      "source": [
        "import re\n",
        "\n",
        "def pluralize(word):\n",
        "    # List of irregular noun forms and their plural counterparts\n",
        "    irregulars = {\n",
        "        \"child\": \"children\",\n",
        "        \"man\": \"men\",\n",
        "        \"woman\": \"women\",\n",
        "        \"tooth\": \"teeth\",\n",
        "        \"foot\": \"feet\",\n",
        "        \"mouse\": \"mice\",\n",
        "        \"ox\": \"oxen\"\n",
        "        # Add more irregular forms as needed\n",
        "    }\n",
        "\n",
        "    if word in irregulars:\n",
        "        return irregulars[word]\n",
        "\n",
        "    rules = [\n",
        "        (r's$', 's'),            # plural already ends in s\n",
        "        (r'(ax|test)is$', 'es'), # singular words ending in ax or test\n",
        "        (r'(octop|vir)us$', 'i'),# singular words ending in us\n",
        "        (r'(?i)(quiz)$', 'zes'), # singular words ending in quiz (case insensitive)\n",
        "        (r'([m|l])ouse$', 'ice'),# singular words ending in mouse or louse\n",
        "        (r'(matr|vert|ind)ix|ex$', 'ices'), # matrices, vertices, indices, reflexes\n",
        "        (r'(x|ch|ss|sh)$', 'es'), # singular words ending in x, ch, ss, sh\n",
        "        (r'([^aeiouy]|qu)y$', 'ies'), # singular words ending in consonant + y\n",
        "        (r'(hive)$', 's'),       # irregular endings\n",
        "        (r'([^f])fe$', 'ives'),   # singular words ending in (not f)fe\n",
        "        (r'f$', 'ves'),          # singular words ending in f\n",
        "        # (r'(.+)fe$', r'\\1ves'),  # singular words ending in (any)fe\n",
        "        (r'(buffal|tomat|potat)o$', r'\\1oes'), # buffalo, tomato\n",
        "        (r'([ti])um$', r'\\1a'),  # singular words ending in (t, i)um\n",
        "        (r'(p)erson$', r'\\1eople'), # person\n",
        "        (r'(m)an$', r'\\1en'),    # man\n",
        "    ]\n",
        "\n",
        "    for pattern, replacement in rules:\n",
        "        if re.search(pattern, word):\n",
        "            return re.sub(pattern, replacement, word)\n",
        "\n",
        "    return word + 's'\n",
        "\n",
        "# Get user input\n",
        "input_word = input(\"Enter a singular word: \")\n",
        "plural_word = pluralize(input_word)\n",
        "\n",
        "print(f\"Singular: {input_word} => Plural: {plural_word}\")\n"
      ],
      "metadata": {
        "id": "0lE9oHXbLQfg",
        "colab": {
          "base_uri": "https://localhost:8080/"
        },
        "outputId": "ed78c57f-c379-426b-cf33-1b763d35cefa"
      },
      "execution_count": 1,
      "outputs": [
        {
          "output_type": "stream",
          "name": "stdout",
          "text": [
            "Enter a singular word: child\n",
            "Singular: child => Plural: children\n"
          ]
        }
      ]
    }
  ]
}