import math
import string
import pandas as pd

def preprocess_document(doc):
    translator = str.maketrans('', '', string.punctuation)
    doc = doc.lower().translate(translator)
    terms = doc.split()
    return terms

def calculate_tf(doc):
    tf = {}
    total_terms = len(doc)
    for term in doc:
        tf[term] = tf.get(term, 0) + 1 / total_terms
    return tf

def calculate_idf(documents):
    N = len(documents)
    idf = {}
    term_document_count = {}
    for doc in documents:
        unique_terms = set(doc)
        for term in unique_terms:
            term_document_count[term] = term_document_count.get(term, 0) + 1
    for term, count in term_document_count.items():
        idf[term] = math.log(N / count)
    return idf

def calculate_tfidf(documents):
    tfidf = []
    idf = calculate_idf(documents)
    for doc in documents:
        tf = calculate_tf(doc)
        doc_tfidf = {}
        for term in doc:
            if term in tf and term in idf:
                doc_tfidf[term] = tf[term] * idf[term]
        tfidf.append(doc_tfidf)
    return tfidf

documents = [
    "This is the first document.",
    "This document is the second document.",
    "And this is the third one.",
    "Is this the first document?"
]

preprocessed_docs = [preprocess_document(doc) for doc in documents]
tfidf_scores = calculate_tfidf(preprocessed_docs)

df_tfidf = pd.DataFrame(tfidf_scores)
df_tfidf.columns = sorted(set(term for doc in preprocessed_docs for term in doc))

tf_scores = []
idf_scores = calculate_idf(preprocessed_docs)
for doc in preprocessed_docs:
    tf_doc = calculate_tf(doc)
    tf_scores.append(tf_doc)

df_scores = pd.DataFrame()
for i, doc in enumerate(preprocessed_docs):
    doc_scores = pd.DataFrame({
        'Term': doc,
        'TF': [tf_scores[i].get(term, 0) for term in doc],
        'IDF': [idf_scores.get(term, 0) for term in doc],
        'TF-IDF': [tf_scores[i].get(term, 0) * idf_scores.get(term, 0) for term in doc]
    })
    df_scores = pd.concat([df_scores, doc_scores], ignore_index=True)

print(df_scores)
