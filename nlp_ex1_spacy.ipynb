{
  "nbformat": 4,
  "nbformat_minor": 0,
  "metadata": {
    "colab": {
      "provenance": []
    },
    "kernelspec": {
      "name": "python3",
      "display_name": "Python 3"
    },
    "language_info": {
      "name": "python"
    }
  },
  "cells": [
    {
      "cell_type": "markdown",
      "source": [
        "## **Span**"
      ],
      "metadata": {
        "id": "pWpjq3nGYzei"
      }
    },
    {
      "cell_type": "code",
      "execution_count": null,
      "metadata": {
        "colab": {
          "base_uri": "https://localhost:8080/"
        },
        "id": "TVbI8pGgO8t6",
        "outputId": "4b7db621-d84c-4ebf-a73a-025ff4e6ede2"
      },
      "outputs": [
        {
          "output_type": "execute_result",
          "data": {
            "text/plain": [
              "is my first example."
            ]
          },
          "metadata": {},
          "execution_count": 1
        }
      ],
      "source": [
        "import spacy\n",
        "import en_core_web_sm\n",
        "nlp_example = en_core_web_sm.load()\n",
        "my_doc = nlp_example(\"This is my first example.\")\n",
        "span = my_doc[1:6]\n",
        "span"
      ]
    },
    {
      "cell_type": "markdown",
      "source": [
        "## **Token**"
      ],
      "metadata": {
        "id": "Uy0X-htJY-w8"
      }
    },
    {
      "cell_type": "code",
      "source": [
        "import spacy\n",
        "import en_core_web_sm\n",
        "nlp_example = en_core_web_sm.load()\n",
        "my_doc = nlp_example(\"This is my first example.\")\n",
        "token = my_doc[4]\n",
        "token"
      ],
      "metadata": {
        "colab": {
          "base_uri": "https://localhost:8080/"
        },
        "id": "AM2-OmCFZBlw",
        "outputId": "b32a9290-d66b-47b5-d491-662908e49b8f"
      },
      "execution_count": null,
      "outputs": [
        {
          "output_type": "execute_result",
          "data": {
            "text/plain": [
              "example"
            ]
          },
          "metadata": {},
          "execution_count": 2
        }
      ]
    },
    {
      "cell_type": "markdown",
      "source": [
        "## **Tokenization**"
      ],
      "metadata": {
        "id": "CLWWRyvQZwB9"
      }
    },
    {
      "cell_type": "code",
      "source": [
        "import spacy"
      ],
      "metadata": {
        "id": "vGSHpOnVaItz"
      },
      "execution_count": null,
      "outputs": []
    },
    {
      "cell_type": "code",
      "source": [
        "import en_core_web_sm\n",
        "\n",
        "nlp = en_core_web_sm.load()"
      ],
      "metadata": {
        "id": "gVY5q1e1a6zM"
      },
      "execution_count": null,
      "outputs": []
    },
    {
      "cell_type": "code",
      "source": [
        "# nlp = spacy.load(\"en_core_web_md\")\n",
        "doc = nlp(\"We are learning NLP using SpaCy.\")\n",
        "print([token.text for token in doc])"
      ],
      "metadata": {
        "colab": {
          "base_uri": "https://localhost:8080/"
        },
        "id": "EQ7OrSdcZzB5",
        "outputId": "5f856273-618b-4d28-b3bd-32e311157551"
      },
      "execution_count": null,
      "outputs": [
        {
          "output_type": "stream",
          "name": "stdout",
          "text": [
            "['We', 'are', 'learning', 'NLP', 'using', 'SpaCy', '.']\n"
          ]
        }
      ]
    },
    {
      "cell_type": "markdown",
      "source": [
        "## **Customizing the Tokenizer**"
      ],
      "metadata": {
        "id": "nT79KYhkbN8W"
      }
    },
    {
      "cell_type": "code",
      "source": [
        "import spacy\n",
        "from spacy.symbols import ORTH\n",
        "nlp = en_core_web_sm.load()\n",
        "doc = nlp(\"NewYork is a beautiful city.\")\n",
        "print([token.text for token in doc])\n",
        "special_case = [{ORTH:\"New\"}, {ORTH: \"York\"}]\n",
        "nlp.tokenizer.add_special_case(\"NewYork\", special_case)\n",
        "print([token.text for token in nlp(\"NewYork is a beautiful city.\")])"
      ],
      "metadata": {
        "colab": {
          "base_uri": "https://localhost:8080/"
        },
        "id": "2hb5Ak_QbMHu",
        "outputId": "2c04a4e1-3281-4dff-b4d5-cc4d27f22ba4"
      },
      "execution_count": null,
      "outputs": [
        {
          "output_type": "stream",
          "name": "stdout",
          "text": [
            "['NewYork', 'is', 'a', 'beautiful', 'city', '.']\n",
            "['New', 'York', 'is', 'a', 'beautiful', 'city', '.']\n"
          ]
        }
      ]
    },
    {
      "cell_type": "markdown",
      "source": [
        "## **Sentence Segmentation**"
      ],
      "metadata": {
        "id": "05STC5XfggI9"
      }
    },
    {
      "cell_type": "code",
      "source": [
        "text = \"I studied effficiently this week. And today is my exam.\"\n",
        "doc = nlp(text)\n",
        "for sent in doc.sents:\n",
        "  print(sent.text)"
      ],
      "metadata": {
        "colab": {
          "base_uri": "https://localhost:8080/"
        },
        "id": "nHJeMEsxgkoY",
        "outputId": "75a0aa08-0372-454f-8c95-0d4a3e24f5e1"
      },
      "execution_count": null,
      "outputs": [
        {
          "output_type": "stream",
          "name": "stdout",
          "text": [
            "I studied effficiently this week.\n",
            "And today is my exam.\n"
          ]
        }
      ]
    },
    {
      "cell_type": "markdown",
      "source": [
        "## **Remove Punctutation Marks**"
      ],
      "metadata": {
        "id": "T--mkg8Ni3xh"
      }
    },
    {
      "cell_type": "code",
      "source": [
        "text = \"A boy that I'm seriously, deeply, madly, incredibly, and undeniably in love with. And he taught me the most important thing of all...To put the emphasis On life \"\n",
        "nlp = en_core_web_sm.load()\n",
        "doc = nlp(text)\n",
        "text_no_punct = [token for token in doc if not token.is_punct]\n",
        "' '.join(t.text for t in text_no_punct)"
      ],
      "metadata": {
        "colab": {
          "base_uri": "https://localhost:8080/",
          "height": 36
        },
        "id": "CHAgQ9MHi3Ch",
        "outputId": "2e3d274e-235c-4109-d241-2a4d9a6c9eb5"
      },
      "execution_count": null,
      "outputs": [
        {
          "output_type": "execute_result",
          "data": {
            "text/plain": [
              "\"A boy that I 'm seriously deeply madly incredibly and undeniably in love with And he taught me the most important thing of all To put the emphasis On life\""
            ],
            "application/vnd.google.colaboratory.intrinsic+json": {
              "type": "string"
            }
          },
          "metadata": {},
          "execution_count": 14
        }
      ]
    },
    {
      "cell_type": "markdown",
      "source": [
        "## **Frequency Distribution in Spacy - POS**"
      ],
      "metadata": {
        "id": "hiUZd3Wnk71k"
      }
    },
    {
      "cell_type": "code",
      "source": [
        "import spacy\n",
        "import spacy.attrs\n",
        "nlp = spacy.load(\"en_core_web_sm\")\n",
        "doc = nlp(\"It all happened between November 2007 and November 2008\")\n",
        "\n",
        "# Returns integers that map to parts of speech\n",
        "counts_dict = doc.count_by(spacy.attrs.IDS['POS'])\n",
        "\n",
        "# Print the human readable part of speech tags\n",
        "for pos, count in counts_dict.items():\n",
        "    human_readable_tag = doc.vocab[pos].text\n",
        "    res = print(human_readable_tag, count)"
      ],
      "metadata": {
        "colab": {
          "base_uri": "https://localhost:8080/"
        },
        "id": "_xVBQ_UElAcR",
        "outputId": "8f917fa5-e42e-408f-dbbc-b852ca1b0456"
      },
      "execution_count": null,
      "outputs": [
        {
          "output_type": "stream",
          "name": "stdout",
          "text": [
            "PRON 2\n",
            "VERB 1\n",
            "ADP 1\n",
            "PROPN 2\n",
            "NUM 2\n",
            "CCONJ 1\n"
          ]
        }
      ]
    },
    {
      "cell_type": "markdown",
      "source": [
        "## **STOP WORDS**"
      ],
      "metadata": {
        "id": "8Fzo0WPHpaYR"
      }
    },
    {
      "cell_type": "code",
      "source": [
        "nlp = spacy.load('en_core_web_sm')\n",
        "\n",
        "# Create a set of stop words\n",
        "stop_words = spacy.lang.en.stop_words.STOP_WORDS\n",
        "\n",
        "# Define a function to remove stop words from a sentence\n",
        "def remove_stop_words(sentence):\n",
        "  # Parse the sentence using spaCy\n",
        "  doc = nlp(sentence)\n",
        "\n",
        "  # Use a list comprehension to remove stop words\n",
        "  filtered_tokens = [token for token in doc if not token.is_stop]\n",
        "\n",
        "  # Join the filtered tokens back into a sentence\n",
        "  return ' '.join([token.text for token in filtered_tokens])"
      ],
      "metadata": {
        "id": "Q5XmJMJFpcwf"
      },
      "execution_count": null,
      "outputs": []
    },
    {
      "cell_type": "code",
      "source": [
        "sentence = \"This is an example sentence with stop words.\"\n",
        "\n",
        "filtered_sentence = remove_stop_words(sentence)\n",
        "print(filtered_sentence)\n",
        "# Output: \"example sentence stop words.\""
      ],
      "metadata": {
        "colab": {
          "base_uri": "https://localhost:8080/"
        },
        "id": "MdzywkDPpkjl",
        "outputId": "deedc6ce-a3ce-4eb2-cdbb-cc74aca2486b"
      },
      "execution_count": null,
      "outputs": [
        {
          "output_type": "stream",
          "name": "stdout",
          "text": [
            "example sentence stop words .\n"
          ]
        }
      ]
    },
    {
      "cell_type": "markdown",
      "source": [
        "## **LEMMEATIZATION**"
      ],
      "metadata": {
        "id": "hhOcQlzsqYMN"
      }
    },
    {
      "cell_type": "code",
      "source": [
        "nlp = spacy.load('en_core_web_sm')\n",
        "doc = nlp('Walking is one of the main gaits of terrestrial locomotion among legged animals')\n",
        "\n",
        "for token in doc:\n",
        "    print(token.text + \"-->\" + token.lemma_)"
      ],
      "metadata": {
        "colab": {
          "base_uri": "https://localhost:8080/"
        },
        "id": "VqKRqCQdqaVS",
        "outputId": "918f3b04-4c6e-437c-963b-ca4670c3c138"
      },
      "execution_count": null,
      "outputs": [
        {
          "output_type": "stream",
          "name": "stdout",
          "text": [
            "Walking-->walk\n",
            "is-->be\n",
            "one-->one\n",
            "of-->of\n",
            "the-->the\n",
            "main-->main\n",
            "gaits-->gait\n",
            "of-->of\n",
            "terrestrial-->terrestrial\n",
            "locomotion-->locomotion\n",
            "among-->among\n",
            "legged-->legged\n",
            "animals-->animal\n"
          ]
        }
      ]
    },
    {
      "cell_type": "markdown",
      "source": [
        "## **STEMMING**"
      ],
      "metadata": {
        "id": "fW7Z9o2G0geN"
      }
    },
    {
      "cell_type": "code",
      "source": [
        "import spacy\n",
        "\n",
        "nlp = spacy.load(\"en_core_web_sm\")\n",
        "\n",
        "words = [\"run\", \"running\", \"ran\"]\n",
        "\n",
        "stemmed_words = [nlp(word)[0].lemma_ for word in words]\n",
        "\n",
        "print(stemmed_words)\n",
        "# prints: [\"run\", \"run\", \"run\"]"
      ],
      "metadata": {
        "colab": {
          "base_uri": "https://localhost:8080/"
        },
        "id": "xHx40vxM0kiH",
        "outputId": "12946fc8-37f6-48ca-d362-9076a369df53"
      },
      "execution_count": null,
      "outputs": [
        {
          "output_type": "stream",
          "name": "stdout",
          "text": [
            "['run', 'run', 'run']\n"
          ]
        }
      ]
    },
    {
      "cell_type": "code",
      "source": [
        "import spacy\n",
        "from collections import Counter\n",
        "import matplotlib.pyplot as plt\n",
        "\n",
        "# Example text\n",
        "text = \"This is an example sentence. Another sentence for demonstration purposes.\"\n",
        "\n",
        "# Load the spaCy English model\n",
        "nlp = spacy.load(\"en_core_web_sm\")\n",
        "\n",
        "# Process the text\n",
        "doc = nlp(text)\n",
        "\n",
        "# Extract the tokens\n",
        "tokens = [token.text for token in doc if not token.is_punct and not token.is_space]\n",
        "\n",
        "# Create a frequency distribution of tokens\n",
        "freq_dist = Counter(tokens)\n",
        "\n",
        "# Get the most common tokens and their frequencies\n",
        "common_tokens = [token[0] for token in freq_dist.most_common(10)]\n",
        "frequencies = [token[1] for token in freq_dist.most_common(10)]\n",
        "\n",
        "# Plot the frequency distribution\n",
        "plt.figure(figsize=(10, 6))\n",
        "plt.bar(common_tokens, frequencies)\n",
        "plt.xlabel('Tokens')\n",
        "plt.ylabel('Frequency')\n",
        "plt.title('Token Frequency Distribution')\n",
        "plt.show()\n"
      ],
      "metadata": {
        "colab": {
          "base_uri": "https://localhost:8080/",
          "height": 564
        },
        "id": "Yseob4G2kbCb",
        "outputId": "a687ede6-3c4a-487b-fa04-5e32c9cfa9d4"
      },
      "execution_count": null,
      "outputs": [
        {
          "output_type": "display_data",
          "data": {
            "text/plain": [
              "<Figure size 1000x600 with 1 Axes>"
            ],
            "image/png": "[encoded data removed]"
          },
          "metadata": {}
        }
      ]
    }
  ]
}